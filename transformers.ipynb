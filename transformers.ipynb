{
 "cells": [
  {
   "cell_type": "code",
   "execution_count": 130,
   "metadata": {},
   "outputs": [],
   "source": [
    "import pandas as pd\n",
    "from datasets import load_dataset\n",
    "from sklearn.model_selection import train_test_split"
   ]
  },
  {
   "cell_type": "markdown",
   "metadata": {},
   "source": [
    "# ¿Que dicen los LLM de nuestros datos?"
   ]
  },
  {
   "cell_type": "markdown",
   "metadata": {},
   "source": [
    "Primero importaremos los datos y le aplicaremos la función de rating"
   ]
  },
  {
   "cell_type": "code",
   "execution_count": 131,
   "metadata": {},
   "outputs": [
    {
     "name": "stderr",
     "output_type": "stream",
     "text": [
      "Downloading data files: 100%|██████████| 2/2 [00:00<00:00, 2000.62it/s]\n",
      "Extracting data files: 100%|██████████| 2/2 [00:00<00:00, 154.26it/s]\n",
      "Generating train split: 22049 examples [00:00, 485786.82 examples/s]\n",
      "Generating test split: 10861 examples [00:00, 473488.57 examples/s]\n"
     ]
    }
   ],
   "source": [
    "# leemos el csv\n",
    "df = pd.read_csv(\"threads.csv\")\n",
    "df = df.drop([\"source\", \"review_date\"], axis=1)\n",
    "# change the column names to match the HuggingFace dataset format\n",
    "df = df.rename(columns={\"review\": \"text\", \"rating\": \"label\"})\n",
    "\n",
    "# función para convertir el rating a palabras\n",
    "def ratingTransform(rating):\n",
    "    if rating <= 2:\n",
    "        return 0\n",
    "    elif rating <= 4:\n",
    "        return 1\n",
    "    else:\n",
    "        return 2\n",
    "\n",
    "# Transform the ratings to positive, neutral, and negative\n",
    "df[\"label\"] = df[\"label\"].apply(ratingTransform)\n",
    "\n",
    "train, test = train_test_split(df, test_size=0.33)\n",
    "\n",
    "# guardamos los datos en un csv\n",
    "train.to_csv(\"train.csv\", index=False)\n",
    "test.to_csv(\"test.csv\", index=False)\n",
    "\n",
    "# cargamos los datos en un dataset de huggingface\n",
    "dataset = load_dataset(\"csv\", data_files={\"train\": \"train.csv\", \"test\": \"test.csv\"})"
   ]
  },
  {
   "cell_type": "markdown",
   "metadata": {},
   "source": [
    "## Usando Tokenizers\n",
    "\n",
    "Los tokenizers son el proceso de convertir una secuencia de texto en una secuencia de tokens (números que hacen referencia a palabras)."
   ]
  },
  {
   "cell_type": "code",
   "execution_count": 132,
   "metadata": {},
   "outputs": [
    {
     "name": "stderr",
     "output_type": "stream",
     "text": [
      "Map: 100%|██████████| 22049/22049 [00:03<00:00, 5586.79 examples/s]\n",
      "Map: 100%|██████████| 10861/10861 [00:01<00:00, 5812.50 examples/s]\n"
     ]
    }
   ],
   "source": [
    "# Entrenemos un modelo DistilBERT\n",
    "from transformers import AutoTokenizer\n",
    "tokenizer = AutoTokenizer.from_pretrained(\"distilbert-base-uncased\")\n",
    "\n",
    "#max_length = 512\n",
    "# Tokenizamos los datos\n",
    "def tokenize_data(example):\n",
    "    return tokenizer(example['review_description'], padding='max_length', truncation=True)\n",
    "\n",
    "# tokenizamos los datos\n",
    "dataset = dataset.map(tokenize_data, batched=True)"
   ]
  },
  {
   "cell_type": "markdown",
   "metadata": {},
   "source": [
    "## Cargamos el modelo DistilBERT\n",
    "\n",
    "DistilBERT es un modelo de BERT que es más pequeño y rápido, pero que mantiene una precisión similar a la de BERT."
   ]
  },
  {
   "cell_type": "code",
   "execution_count": 133,
   "metadata": {},
   "outputs": [
    {
     "name": "stderr",
     "output_type": "stream",
     "text": [
      "Some weights of DistilBertForSequenceClassification were not initialized from the model checkpoint at distilbert-base-uncased and are newly initialized: ['pre_classifier.weight', 'classifier.bias', 'classifier.weight', 'pre_classifier.bias']\n",
      "You should probably TRAIN this model on a down-stream task to be able to use it for predictions and inference.\n"
     ]
    }
   ],
   "source": [
    "from transformers import AutoModelForSequenceClassification, TrainingArguments\n",
    "\n",
    "# Cargamos un modelo pre-entrenado\n",
    "model = AutoModelForSequenceClassification.from_pretrained(\"distilbert-base-uncased\", num_labels=3)\n",
    "\n",
    "batch_size = 8\n",
    "number_of_epochs = 7\n",
    "logging_steps = len(dataset['train']) // batch_size\n",
    "steps = (len(dataset['train']) // batch_size) * number_of_epochs\n",
    "warmup_steps = int(0.2*steps)\n",
    "\n",
    "training_args = TrainingArguments(\n",
    "                                  num_train_epochs=number_of_epochs, \n",
    "                                  load_best_model_at_end=True,\n",
    "                                  evaluation_strategy='steps', \n",
    "                                  save_strategy='steps',\n",
    "                                  learning_rate=2e-5,\n",
    "                                  logging_steps=logging_steps,\n",
    "                                  warmup_steps= warmup_steps,\n",
    "                                  save_steps=1000,\n",
    "                                  eval_steps=500,\n",
    "                                  output_dir=\"fine-tuned-distilbert-base-uncased\"\n",
    "                                  )\n",
    "\n",
    "# shuffle the dataset\n",
    "train_dataset = dataset['train'].shuffle(seed=10) \n",
    "eval_dataset = dataset['test'].shuffle(seed=10)"
   ]
  },
  {
   "cell_type": "markdown",
   "metadata": {},
   "source": [
    "# Fine-tuning de DistilBERT\n",
    "\n",
    "El fine-tuning es un proceso de entrenamiento en el que se usa un modelo pre-entrenado y se ajusta para que se adapte a los datos específicos del problema. En este caso, usaremos el modelo pre-entrenado de DistilBERT y lo ajustaremos para que se adapte a nuestros datos de entrenamiento."
   ]
  },
  {
   "cell_type": "code",
   "execution_count": 134,
   "metadata": {},
   "outputs": [
    {
     "name": "stderr",
     "output_type": "stream",
     "text": [
      "  3%|▎         | 500/19299 [01:41<1:03:34,  4.93it/s]\n",
      "Downloading builder script: 7.55kB [00:00, ?B/s]                       \n",
      "\n",
      "Downloading builder script: 7.38kB [00:00, ?B/s]                       \n",
      "c:\\Users\\frgon\\UChile\\Mineria\\App-Reviewer\\venv2\\Lib\\site-packages\\sklearn\\metrics\\_classification.py:1471: UndefinedMetricWarning: Precision is ill-defined and being set to 0.0 in labels with no predicted samples. Use `zero_division` parameter to control this behavior.\n",
      "  _warn_prf(average, modifier, msg_start, len(result))\n",
      "\n",
      "  3%|▎         | 500/19299 [03:20<1:03:34,  4.93it/s]"
     ]
    },
    {
     "name": "stdout",
     "output_type": "stream",
     "text": [
      "{'eval_loss': 0.8851959705352783, 'eval_accuracy': 0.6289476107172451, 'eval_f1': 0.5639379312396521, 'eval_precision': 0.5150621330237951, 'eval_recall': 0.6289476107172451, 'eval_runtime': 98.789, 'eval_samples_per_second': 109.941, 'eval_steps_per_second': 13.746, 'epoch': 0.18}\n"
     ]
    },
    {
     "name": "stderr",
     "output_type": "stream",
     "text": [
      "                                                       \n",
      "  5%|▌         | 1000/19299 [06:40<1:01:54,  4.93it/s]"
     ]
    },
    {
     "name": "stdout",
     "output_type": "stream",
     "text": [
      "{'eval_loss': 0.6858401894569397, 'eval_accuracy': 0.7304115643126784, 'eval_f1': 0.698458599270395, 'eval_precision': 0.7078432111473476, 'eval_recall': 0.7304115643126784, 'eval_runtime': 98.1154, 'eval_samples_per_second': 110.696, 'eval_steps_per_second': 13.841, 'epoch': 0.36}\n"
     ]
    },
    {
     "name": "stderr",
     "output_type": "stream",
     "text": [
      "                                                        \n",
      "  8%|▊         | 1500/19299 [10:02<59:37,  4.97it/s]"
     ]
    },
    {
     "name": "stdout",
     "output_type": "stream",
     "text": [
      "{'eval_loss': 0.6718159914016724, 'eval_accuracy': 0.7404474726084155, 'eval_f1': 0.7173389678974019, 'eval_precision': 0.7203884366629909, 'eval_recall': 0.7404474726084155, 'eval_runtime': 99.8571, 'eval_samples_per_second': 108.765, 'eval_steps_per_second': 13.599, 'epoch': 0.54}\n"
     ]
    },
    {
     "name": "stderr",
     "output_type": "stream",
     "text": [
      "                                                        \n",
      " 10%|█         | 2000/19299 [13:21<58:11,  4.96it/s]"
     ]
    },
    {
     "name": "stdout",
     "output_type": "stream",
     "text": [
      "{'eval_loss': 0.6772379279136658, 'eval_accuracy': 0.7392505294171807, 'eval_f1': 0.7216436501170218, 'eval_precision': 0.7310111879554647, 'eval_recall': 0.7392505294171807, 'eval_runtime': 97.5601, 'eval_samples_per_second': 111.326, 'eval_steps_per_second': 13.92, 'epoch': 0.73}\n"
     ]
    },
    {
     "name": "stderr",
     "output_type": "stream",
     "text": [
      "                                                        \n",
      " 13%|█▎        | 2500/19299 [16:43<56:26,  4.96it/s]"
     ]
    },
    {
     "name": "stdout",
     "output_type": "stream",
     "text": [
      "{'eval_loss': 0.6630202531814575, 'eval_accuracy': 0.7502071632446368, 'eval_f1': 0.7335579360264689, 'eval_precision': 0.7397891768972807, 'eval_recall': 0.7502071632446368, 'eval_runtime': 100.0544, 'eval_samples_per_second': 108.551, 'eval_steps_per_second': 13.573, 'epoch': 0.91}\n"
     ]
    },
    {
     "name": "stderr",
     "output_type": "stream",
     "text": [
      " 14%|█▍        | 2756/19299 [17:40<1:00:30,  4.56it/s]  "
     ]
    },
    {
     "name": "stdout",
     "output_type": "stream",
     "text": [
      "{'loss': 0.7338, 'learning_rate': 1.4287195438050804e-05, 'epoch': 1.0}\n"
     ]
    },
    {
     "name": "stderr",
     "output_type": "stream",
     "text": [
      "                                                      \n",
      " 16%|█▌        | 3000/19299 [20:24<1:03:23,  4.28it/s]"
     ]
    },
    {
     "name": "stdout",
     "output_type": "stream",
     "text": [
      "{'eval_loss': 0.6403883695602417, 'eval_accuracy': 0.7593223460086548, 'eval_f1': 0.7438053636788539, 'eval_precision': 0.7436633636039628, 'eval_recall': 0.7593223460086548, 'eval_runtime': 111.031, 'eval_samples_per_second': 97.82, 'eval_steps_per_second': 12.231, 'epoch': 1.09}\n"
     ]
    },
    {
     "name": "stderr",
     "output_type": "stream",
     "text": [
      "                                                        \n",
      " 18%|█▊        | 3500/19299 [24:10<1:00:46,  4.33it/s]"
     ]
    },
    {
     "name": "stdout",
     "output_type": "stream",
     "text": [
      "{'eval_loss': 0.6695029735565186, 'eval_accuracy': 0.7571126047325293, 'eval_f1': 0.7447369318088908, 'eval_precision': 0.7420504388876412, 'eval_recall': 0.7571126047325293, 'eval_runtime': 112.0429, 'eval_samples_per_second': 96.936, 'eval_steps_per_second': 12.12, 'epoch': 1.27}\n"
     ]
    },
    {
     "name": "stderr",
     "output_type": "stream",
     "text": [
      "                                                        \n",
      " 21%|██        | 4000/19299 [27:35<54:06,  4.71it/s]"
     ]
    },
    {
     "name": "stdout",
     "output_type": "stream",
     "text": [
      "{'eval_loss': 0.638457715511322, 'eval_accuracy': 0.7639259736672498, 'eval_f1': 0.7514273856034948, 'eval_precision': 0.7494562038253741, 'eval_recall': 0.7639259736672498, 'eval_runtime': 99.8175, 'eval_samples_per_second': 108.809, 'eval_steps_per_second': 13.605, 'epoch': 1.45}\n"
     ]
    },
    {
     "name": "stderr",
     "output_type": "stream",
     "text": [
      "                                                        \n",
      " 23%|██▎       | 4500/19299 [30:54<49:24,  4.99it/s]"
     ]
    },
    {
     "name": "stdout",
     "output_type": "stream",
     "text": [
      "{'eval_loss': 0.6414019465446472, 'eval_accuracy': 0.765583279624344, 'eval_f1': 0.7456701024900905, 'eval_precision': 0.7513022317167645, 'eval_recall': 0.765583279624344, 'eval_runtime': 97.9402, 'eval_samples_per_second': 110.894, 'eval_steps_per_second': 13.866, 'epoch': 1.63}\n"
     ]
    },
    {
     "name": "stderr",
     "output_type": "stream",
     "text": [
      "                                                        \n",
      " 26%|██▌       | 5000/19299 [34:11<47:46,  4.99it/s]"
     ]
    },
    {
     "name": "stdout",
     "output_type": "stream",
     "text": [
      "{'eval_loss': 0.6400208473205566, 'eval_accuracy': 0.7613479421784366, 'eval_f1': 0.7372532583644794, 'eval_precision': 0.7448736139400357, 'eval_recall': 0.7613479421784366, 'eval_runtime': 96.8468, 'eval_samples_per_second': 112.146, 'eval_steps_per_second': 14.022, 'epoch': 1.81}\n"
     ]
    },
    {
     "name": "stderr",
     "output_type": "stream",
     "text": [
      "                                                        \n",
      " 28%|██▊       | 5500/19299 [37:30<45:53,  5.01it/s]"
     ]
    },
    {
     "name": "stdout",
     "output_type": "stream",
     "text": [
      "{'eval_loss': 0.62331622838974, 'eval_accuracy': 0.7674247306877819, 'eval_f1': 0.7491925002541671, 'eval_precision': 0.7508941820762998, 'eval_recall': 0.7674247306877819, 'eval_runtime': 97.5005, 'eval_samples_per_second': 111.394, 'eval_steps_per_second': 13.928, 'epoch': 1.99}\n"
     ]
    },
    {
     "name": "stderr",
     "output_type": "stream",
     "text": [
      " 29%|██▊       | 5513/19299 [37:32<2:19:00,  1.65it/s]  "
     ]
    },
    {
     "name": "stdout",
     "output_type": "stream",
     "text": [
      "{'loss': 0.5966, 'learning_rate': 1.7857651706495696e-05, 'epoch': 2.0}\n"
     ]
    },
    {
     "name": "stderr",
     "output_type": "stream",
     "text": [
      "                                                      \n",
      " 31%|███       | 6000/19299 [40:46<44:10,  5.02it/s]"
     ]
    },
    {
     "name": "stdout",
     "output_type": "stream",
     "text": [
      "{'eval_loss': 0.70716792345047, 'eval_accuracy': 0.7651229168584844, 'eval_f1': 0.7470067444787822, 'eval_precision': 0.7471164889197514, 'eval_recall': 0.7651229168584844, 'eval_runtime': 96.663, 'eval_samples_per_second': 112.359, 'eval_steps_per_second': 14.049, 'epoch': 2.18}\n"
     ]
    },
    {
     "name": "stderr",
     "output_type": "stream",
     "text": [
      "                                                        \n",
      " 34%|███▎      | 6500/19299 [44:05<42:36,  5.01it/s]"
     ]
    },
    {
     "name": "stdout",
     "output_type": "stream",
     "text": [
      "{'eval_loss': 0.7206271886825562, 'eval_accuracy': 0.7553632262222632, 'eval_f1': 0.7516016694969326, 'eval_precision': 0.7493531789368872, 'eval_recall': 0.7553632262222632, 'eval_runtime': 97.6827, 'eval_samples_per_second': 111.186, 'eval_steps_per_second': 13.902, 'epoch': 2.36}\n"
     ]
    },
    {
     "name": "stderr",
     "output_type": "stream",
     "text": [
      "                                                        \n",
      " 36%|███▋      | 7000/19299 [47:22<40:58,  5.00it/s]"
     ]
    },
    {
     "name": "stdout",
     "output_type": "stream",
     "text": [
      "{'eval_loss': 0.694503903388977, 'eval_accuracy': 0.7666881502624068, 'eval_f1': 0.7548450403098814, 'eval_precision': 0.7545004757801279, 'eval_recall': 0.7666881502624068, 'eval_runtime': 96.679, 'eval_samples_per_second': 112.341, 'eval_steps_per_second': 14.046, 'epoch': 2.54}\n"
     ]
    },
    {
     "name": "stderr",
     "output_type": "stream",
     "text": [
      "                                                        \n",
      " 39%|███▉      | 7500/19299 [50:40<39:17,  5.00it/s]"
     ]
    },
    {
     "name": "stdout",
     "output_type": "stream",
     "text": [
      "{'eval_loss': 0.7029852271080017, 'eval_accuracy': 0.7680692385599853, 'eval_f1': 0.7414228440033869, 'eval_precision': 0.751428291955373, 'eval_recall': 0.7680692385599853, 'eval_runtime': 97.6406, 'eval_samples_per_second': 111.234, 'eval_steps_per_second': 13.908, 'epoch': 2.72}\n"
     ]
    },
    {
     "name": "stderr",
     "output_type": "stream",
     "text": [
      "                                                       \n",
      " 41%|████▏     | 8000/19299 [53:57<37:45,  4.99it/s]"
     ]
    },
    {
     "name": "stdout",
     "output_type": "stream",
     "text": [
      "{'eval_loss': 0.7050660252571106, 'eval_accuracy': 0.7540742104778565, 'eval_f1': 0.750821922293519, 'eval_precision': 0.748656268677426, 'eval_recall': 0.7540742104778565, 'eval_runtime': 96.5317, 'eval_samples_per_second': 112.512, 'eval_steps_per_second': 14.068, 'epoch': 2.9}\n"
     ]
    },
    {
     "name": "stderr",
     "output_type": "stream",
     "text": [
      " 43%|████▎     | 8269/19299 [54:52<36:54,  4.98it/s]   "
     ]
    },
    {
     "name": "stdout",
     "output_type": "stream",
     "text": [
      "{'loss': 0.5064, 'learning_rate': 1.4287934719253935e-05, 'epoch': 3.0}\n"
     ]
    },
    {
     "name": "stderr",
     "output_type": "stream",
     "text": [
      "                                                    \n",
      " 44%|████▍     | 8500/19299 [57:16<35:58,  5.00it/s]"
     ]
    },
    {
     "name": "stdout",
     "output_type": "stream",
     "text": [
      "{'eval_loss': 0.7729307413101196, 'eval_accuracy': 0.7663198600497192, 'eval_f1': 0.7521354107210186, 'eval_precision': 0.7512750709969251, 'eval_recall': 0.7663198600497192, 'eval_runtime': 97.4658, 'eval_samples_per_second': 111.434, 'eval_steps_per_second': 13.933, 'epoch': 3.08}\n"
     ]
    },
    {
     "name": "stderr",
     "output_type": "stream",
     "text": [
      "                                                       \n",
      " 47%|████▋     | 9000/19299 [1:00:33<34:24,  4.99it/s]"
     ]
    },
    {
     "name": "stdout",
     "output_type": "stream",
     "text": [
      "{'eval_loss': 0.7848901748657227, 'eval_accuracy': 0.7526010496271062, 'eval_f1': 0.7500519595720716, 'eval_precision': 0.7489956488216549, 'eval_recall': 0.7526010496271062, 'eval_runtime': 96.5986, 'eval_samples_per_second': 112.434, 'eval_steps_per_second': 14.058, 'epoch': 3.26}\n"
     ]
    },
    {
     "name": "stderr",
     "output_type": "stream",
     "text": [
      "                                                         \n",
      " 49%|████▉     | 9500/19299 [1:03:51<32:35,  5.01it/s]"
     ]
    },
    {
     "name": "stdout",
     "output_type": "stream",
     "text": [
      "{'eval_loss': 0.799060583114624, 'eval_accuracy': 0.7590461283491391, 'eval_f1': 0.7458676307318718, 'eval_precision': 0.7458613596477447, 'eval_recall': 0.7590461283491391, 'eval_runtime': 97.55, 'eval_samples_per_second': 111.338, 'eval_steps_per_second': 13.921, 'epoch': 3.45}\n"
     ]
    },
    {
     "name": "stderr",
     "output_type": "stream",
     "text": [
      "                                                         \n",
      " 52%|█████▏    | 10000/19299 [1:07:06<31:00,  5.00it/s]"
     ]
    },
    {
     "name": "stdout",
     "output_type": "stream",
     "text": [
      "{'eval_loss': 0.8517731428146362, 'eval_accuracy': 0.7485498572875425, 'eval_f1': 0.7445785489361729, 'eval_precision': 0.7414986707029605, 'eval_recall': 0.7485498572875425, 'eval_runtime': 94.8247, 'eval_samples_per_second': 114.538, 'eval_steps_per_second': 14.321, 'epoch': 3.63}\n"
     ]
    },
    {
     "name": "stderr",
     "output_type": "stream",
     "text": [
      "                                                          \n",
      " 54%|█████▍    | 10500/19299 [1:10:19<28:27,  5.15it/s]"
     ]
    },
    {
     "name": "stdout",
     "output_type": "stream",
     "text": [
      "{'eval_loss': 0.8575529456138611, 'eval_accuracy': 0.7580333302642482, 'eval_f1': 0.7490732464038934, 'eval_precision': 0.7451016982465196, 'eval_recall': 0.7580333302642482, 'eval_runtime': 94.8164, 'eval_samples_per_second': 114.548, 'eval_steps_per_second': 14.322, 'epoch': 3.81}\n"
     ]
    },
    {
     "name": "stderr",
     "output_type": "stream",
     "text": [
      "                                                          \n",
      " 57%|█████▋    | 11000/19299 [1:13:31<26:49,  5.16it/s]"
     ]
    },
    {
     "name": "stdout",
     "output_type": "stream",
     "text": [
      "{'eval_loss': 0.9002107977867126, 'eval_accuracy': 0.7526010496271062, 'eval_f1': 0.748532447791032, 'eval_precision': 0.7466476610161179, 'eval_recall': 0.7526010496271062, 'eval_runtime': 94.81, 'eval_samples_per_second': 114.555, 'eval_steps_per_second': 14.323, 'epoch': 3.99}\n"
     ]
    },
    {
     "name": "stderr",
     "output_type": "stream",
     "text": [
      " 57%|█████▋    | 11024/19299 [1:13:37<28:43,  4.80it/s]   "
     ]
    },
    {
     "name": "stdout",
     "output_type": "stream",
     "text": [
      "{'loss': 0.4218, 'learning_rate': 1.0718217732012177e-05, 'epoch': 4.0}\n"
     ]
    },
    {
     "name": "stderr",
     "output_type": "stream",
     "text": [
      "                                                       \n",
      " 60%|█████▉    | 11500/19299 [1:16:49<26:02,  4.99it/s]"
     ]
    },
    {
     "name": "stdout",
     "output_type": "stream",
     "text": [
      "{'eval_loss': 1.0175721645355225, 'eval_accuracy': 0.7610717245189209, 'eval_f1': 0.7426393370375057, 'eval_precision': 0.7424135798612074, 'eval_recall': 0.7610717245189209, 'eval_runtime': 97.7039, 'eval_samples_per_second': 111.162, 'eval_steps_per_second': 13.899, 'epoch': 4.17}\n"
     ]
    },
    {
     "name": "stderr",
     "output_type": "stream",
     "text": [
      "                                                          \n",
      " 62%|██████▏   | 12000/19299 [1:20:07<24:23,  4.99it/s]"
     ]
    },
    {
     "name": "stdout",
     "output_type": "stream",
     "text": [
      "{'eval_loss': 0.9951866865158081, 'eval_accuracy': 0.7549949360095756, 'eval_f1': 0.7466203620737191, 'eval_precision': 0.7425736431595161, 'eval_recall': 0.7549949360095756, 'eval_runtime': 96.8985, 'eval_samples_per_second': 112.086, 'eval_steps_per_second': 14.015, 'epoch': 4.35}\n"
     ]
    },
    {
     "name": "stderr",
     "output_type": "stream",
     "text": [
      "                                                          \n",
      " 65%|██████▍   | 12500/19299 [1:23:26<22:38,  5.00it/s]"
     ]
    },
    {
     "name": "stdout",
     "output_type": "stream",
     "text": [
      "{'eval_loss': 1.0549551248550415, 'eval_accuracy': 0.7456956081392137, 'eval_f1': 0.7438484850784487, 'eval_precision': 0.7424502874471023, 'eval_recall': 0.7456956081392137, 'eval_runtime': 98.03, 'eval_samples_per_second': 110.793, 'eval_steps_per_second': 13.853, 'epoch': 4.53}\n"
     ]
    },
    {
     "name": "stderr",
     "output_type": "stream",
     "text": [
      "                                                          \n",
      " 67%|██████▋   | 13000/19299 [1:26:43<20:53,  5.03it/s]"
     ]
    },
    {
     "name": "stdout",
     "output_type": "stream",
     "text": [
      "{'eval_loss': 1.0537890195846558, 'eval_accuracy': 0.7537059202651689, 'eval_f1': 0.7465079568495879, 'eval_precision': 0.7423083770524582, 'eval_recall': 0.7537059202651689, 'eval_runtime': 97.0683, 'eval_samples_per_second': 111.89, 'eval_steps_per_second': 13.99, 'epoch': 4.72}\n"
     ]
    },
    {
     "name": "stderr",
     "output_type": "stream",
     "text": [
      "                                                          \n",
      " 70%|██████▉   | 13500/19299 [1:30:09<19:23,  4.98it/s]"
     ]
    },
    {
     "name": "stdout",
     "output_type": "stream",
     "text": [
      "{'eval_loss': 0.9979603886604309, 'eval_accuracy': 0.7548107909032318, 'eval_f1': 0.7474661432204066, 'eval_precision': 0.7435532749964809, 'eval_recall': 0.7548107909032318, 'eval_runtime': 97.7599, 'eval_samples_per_second': 111.099, 'eval_steps_per_second': 13.891, 'epoch': 4.9}\n"
     ]
    },
    {
     "name": "stderr",
     "output_type": "stream",
     "text": [
      " 71%|███████▏  | 13780/19299 [1:31:05<18:18,  5.03it/s]   "
     ]
    },
    {
     "name": "stdout",
     "output_type": "stream",
     "text": [
      "{'loss': 0.3548, 'learning_rate': 7.148500744770417e-06, 'epoch': 5.0}\n"
     ]
    },
    {
     "name": "stderr",
     "output_type": "stream",
     "text": [
      "                                                       \n",
      " 73%|███████▎  | 14000/19299 [1:33:26<17:40,  5.00it/s]"
     ]
    },
    {
     "name": "stdout",
     "output_type": "stream",
     "text": [
      "{'eval_loss': 1.1180205345153809, 'eval_accuracy': 0.7526931221802781, 'eval_f1': 0.7457154064528313, 'eval_precision': 0.7414120939724116, 'eval_recall': 0.7526931221802781, 'eval_runtime': 96.9141, 'eval_samples_per_second': 112.068, 'eval_steps_per_second': 14.012, 'epoch': 5.08}\n"
     ]
    },
    {
     "name": "stderr",
     "output_type": "stream",
     "text": [
      "                                                          \n",
      " 75%|███████▌  | 14500/19299 [1:36:45<16:01,  4.99it/s]"
     ]
    },
    {
     "name": "stdout",
     "output_type": "stream",
     "text": [
      "{'eval_loss': 1.150274395942688, 'eval_accuracy': 0.7461559709050732, 'eval_f1': 0.7434284467711635, 'eval_precision': 0.7433543265803839, 'eval_recall': 0.7461559709050732, 'eval_runtime': 98.1309, 'eval_samples_per_second': 110.679, 'eval_steps_per_second': 13.839, 'epoch': 5.26}\n"
     ]
    },
    {
     "name": "stderr",
     "output_type": "stream",
     "text": [
      "                                                          \n",
      " 78%|███████▊  | 15000/19299 [1:40:03<14:24,  4.97it/s]"
     ]
    },
    {
     "name": "stdout",
     "output_type": "stream",
     "text": [
      "{'eval_loss': 1.2045056819915771, 'eval_accuracy': 0.7490102200534021, 'eval_f1': 0.744623005237226, 'eval_precision': 0.7414781591053871, 'eval_recall': 0.7490102200534021, 'eval_runtime': 96.8908, 'eval_samples_per_second': 112.095, 'eval_steps_per_second': 14.016, 'epoch': 5.44}\n"
     ]
    },
    {
     "name": "stderr",
     "output_type": "stream",
     "text": [
      "                                                          \n",
      " 80%|████████  | 15500/19299 [1:43:22<12:39,  5.00it/s]"
     ]
    },
    {
     "name": "stdout",
     "output_type": "stream",
     "text": [
      "{'eval_loss': 1.1370725631713867, 'eval_accuracy': 0.7560998066476383, 'eval_f1': 0.7446041315527394, 'eval_precision': 0.7407282098329865, 'eval_recall': 0.7560998066476383, 'eval_runtime': 98.0222, 'eval_samples_per_second': 110.801, 'eval_steps_per_second': 13.854, 'epoch': 5.62}\n"
     ]
    },
    {
     "name": "stderr",
     "output_type": "stream",
     "text": [
      "                                                          \n",
      " 83%|████████▎ | 16000/19299 [1:46:39<10:55,  5.04it/s]"
     ]
    },
    {
     "name": "stdout",
     "output_type": "stream",
     "text": [
      "{'eval_loss': 1.219282627105713, 'eval_accuracy': 0.7478132768621674, 'eval_f1': 0.7426457963598913, 'eval_precision': 0.7393485736711732, 'eval_recall': 0.7478132768621674, 'eval_runtime': 96.8479, 'eval_samples_per_second': 112.145, 'eval_steps_per_second': 14.022, 'epoch': 5.8}\n"
     ]
    },
    {
     "name": "stderr",
     "output_type": "stream",
     "text": [
      "                                                          \n",
      " 85%|████████▌ | 16500/19299 [1:49:58<09:20,  4.99it/s]"
     ]
    },
    {
     "name": "stdout",
     "output_type": "stream",
     "text": [
      "{'eval_loss': 1.194361686706543, 'eval_accuracy': 0.7525089770739343, 'eval_f1': 0.746429163653703, 'eval_precision': 0.743947939053839, 'eval_recall': 0.7525089770739343, 'eval_runtime': 97.8638, 'eval_samples_per_second': 110.981, 'eval_steps_per_second': 13.876, 'epoch': 5.98}\n"
     ]
    },
    {
     "name": "stderr",
     "output_type": "stream",
     "text": [
      " 86%|████████▌ | 16537/19299 [1:50:05<09:11,  5.00it/s]   "
     ]
    },
    {
     "name": "stdout",
     "output_type": "stream",
     "text": [
      "{'loss': 0.2918, 'learning_rate': 3.5787837575286576e-06, 'epoch': 6.0}\n"
     ]
    },
    {
     "name": "stderr",
     "output_type": "stream",
     "text": [
      "                                                       \n",
      " 88%|████████▊ | 17000/19299 [1:53:15<07:42,  4.97it/s]"
     ]
    },
    {
     "name": "stdout",
     "output_type": "stream",
     "text": [
      "{'eval_loss': 1.242308497428894, 'eval_accuracy': 0.7458797532455576, 'eval_f1': 0.7410606739087273, 'eval_precision': 0.7380768881910048, 'eval_recall': 0.7458797532455576, 'eval_runtime': 97.0247, 'eval_samples_per_second': 111.941, 'eval_steps_per_second': 13.996, 'epoch': 6.17}\n"
     ]
    },
    {
     "name": "stderr",
     "output_type": "stream",
     "text": [
      "                                                          \n",
      " 91%|█████████ | 17500/19299 [1:56:34<06:02,  4.97it/s]"
     ]
    },
    {
     "name": "stdout",
     "output_type": "stream",
     "text": [
      "{'eval_loss': 1.2791359424591064, 'eval_accuracy': 0.7495626553724335, 'eval_f1': 0.7417198256595304, 'eval_precision': 0.7371932785666107, 'eval_recall': 0.7495626553724335, 'eval_runtime': 97.9746, 'eval_samples_per_second': 110.855, 'eval_steps_per_second': 13.861, 'epoch': 6.35}\n"
     ]
    },
    {
     "name": "stderr",
     "output_type": "stream",
     "text": [
      "                                                          \n",
      " 93%|█████████▎| 18000/19299 [1:59:54<04:21,  4.97it/s]"
     ]
    },
    {
     "name": "stdout",
     "output_type": "stream",
     "text": [
      "{'eval_loss': 1.2837837934494019, 'eval_accuracy': 0.7489181475002302, 'eval_f1': 0.7425067013595325, 'eval_precision': 0.738398064891284, 'eval_recall': 0.7489181475002302, 'eval_runtime': 99.4784, 'eval_samples_per_second': 109.18, 'eval_steps_per_second': 13.651, 'epoch': 6.53}\n"
     ]
    },
    {
     "name": "stderr",
     "output_type": "stream",
     "text": [
      "                                                          \n",
      " 96%|█████████▌| 18500/19299 [2:03:18<02:54,  4.57it/s]"
     ]
    },
    {
     "name": "stdout",
     "output_type": "stream",
     "text": [
      "{'eval_loss': 1.306471347808838, 'eval_accuracy': 0.7440383021821195, 'eval_f1': 0.7405255652268454, 'eval_precision': 0.7382415913713938, 'eval_recall': 0.7440383021821195, 'eval_runtime': 101.3549, 'eval_samples_per_second': 107.158, 'eval_steps_per_second': 13.398, 'epoch': 6.71}\n"
     ]
    },
    {
     "name": "stderr",
     "output_type": "stream",
     "text": [
      "                                                         \n",
      " 98%|█████████▊| 19000/19299 [2:06:41<01:00,  4.92it/s]"
     ]
    },
    {
     "name": "stdout",
     "output_type": "stream",
     "text": [
      "{'eval_loss': 1.286392092704773, 'eval_accuracy': 0.749102292606574, 'eval_f1': 0.7431863611860364, 'eval_precision': 0.7400404821034527, 'eval_recall': 0.749102292606574, 'eval_runtime': 99.8074, 'eval_samples_per_second': 108.82, 'eval_steps_per_second': 13.606, 'epoch': 6.89}\n"
     ]
    },
    {
     "name": "stderr",
     "output_type": "stream",
     "text": [
      "100%|█████████▉| 19292/19299 [2:07:42<00:01,  4.93it/s]  "
     ]
    },
    {
     "name": "stdout",
     "output_type": "stream",
     "text": [
      "{'loss': 0.2545, 'learning_rate': 9.066770286898517e-09, 'epoch': 7.0}\n"
     ]
    },
    {
     "name": "stderr",
     "output_type": "stream",
     "text": [
      "100%|██████████| 19299/19299 [2:07:44<00:00,  2.52it/s]"
     ]
    },
    {
     "name": "stdout",
     "output_type": "stream",
     "text": [
      "{'train_runtime': 7664.0357, 'train_samples_per_second': 20.139, 'train_steps_per_second': 2.518, 'train_loss': 0.45131043809900334, 'epoch': 7.0}\n"
     ]
    },
    {
     "name": "stderr",
     "output_type": "stream",
     "text": [
      "\n"
     ]
    },
    {
     "data": {
      "text/plain": [
       "TrainOutput(global_step=19299, training_loss=0.45131043809900334, metrics={'train_runtime': 7664.0357, 'train_samples_per_second': 20.139, 'train_steps_per_second': 2.518, 'train_loss': 0.45131043809900334, 'epoch': 7.0})"
      ]
     },
     "execution_count": 134,
     "metadata": {},
     "output_type": "execute_result"
    }
   ],
   "source": [
    "from transformers import Trainer\n",
    "import numpy as np\n",
    "from datasets import load_metric\n",
    "\n",
    "# Funcion para poder computar las metricas\n",
    "def compute_metrics(eval_pred):\n",
    "    logits, labels = eval_pred\n",
    "    predictions = np.argmax(logits, axis=-1)\n",
    "\n",
    "    # Cargar las metricas\n",
    "    accuracy_metric = load_metric(\"accuracy\")\n",
    "    f1_metric = load_metric(\"f1\")\n",
    "    precision_metric = load_metric(\"precision\")\n",
    "    recall_metric = load_metric(\"recall\")\n",
    "    \n",
    "    # Calcular las metricas\n",
    "    accuracy  = accuracy_metric.compute(predictions=predictions, references=labels)[\"accuracy\"]\n",
    "    f1        = f1_metric.compute(predictions=predictions, references=labels, average=\"weighted\")[\"f1\"]\n",
    "    precision = precision_metric.compute(predictions=predictions, references=labels, average=\"weighted\")[\"precision\"]\n",
    "    recall    = recall_metric.compute(predictions=predictions, references=labels, average=\"weighted\")[\"recall\"]\n",
    "\n",
    "    metrics = {\n",
    "        'accuracy': accuracy,\n",
    "        'f1': f1,\n",
    "        'precision': precision,\n",
    "        'recall': recall\n",
    "    }\n",
    "\n",
    "    return metrics\n",
    "\n",
    "\"\"\" prev func\n",
    "#Función para computar las metricas\n",
    "def compute_metrics(eval_pred):\n",
    "    # load the metrics to use\n",
    "    load_accuracy = load_metric(\"accuracy\")\n",
    "    load_f1 = load_metric(\"f1\")\n",
    "\n",
    "    logits, labels = eval_pred\n",
    "    predictions = np.argmax(logits, axis=-1)\n",
    "    # calculate the mertic using the predicted and true value \n",
    "    accuracy = load_accuracy.compute(predictions=predictions, references=labels)\n",
    "    f1 = load_f1.compute(predictions=predictions, references=labels, average=\"weighted\")\n",
    "    return {\"accuracy\": accuracy, \"f1score\": f1}\n",
    "\"\"\"\n",
    "\n",
    "trainer = Trainer(\n",
    "    model=model,\n",
    "    args=training_args,\n",
    "    train_dataset=train_dataset,\n",
    "    eval_dataset=eval_dataset,\n",
    "    compute_metrics=compute_metrics,\n",
    ")\n",
    "\n",
    "trainer.train()"
   ]
  },
  {
   "cell_type": "markdown",
   "metadata": {},
   "source": [
    "# Evaluación del modelo\n",
    "\n",
    "Ahora que hemos entrenado nuestro modelo, podemos evaluarlo en el conjunto de datos de prueba, para ver cómo se desempeña en datos que nunca ha visto antes."
   ]
  },
  {
   "cell_type": "code",
   "execution_count": 135,
   "metadata": {},
   "outputs": [
    {
     "name": "stderr",
     "output_type": "stream",
     "text": [
      "100%|██████████| 1358/1358 [01:42<00:00, 13.31it/s]\n"
     ]
    },
    {
     "data": {
      "text/plain": [
       "{'eval_loss': 0.638457715511322,\n",
       " 'eval_accuracy': 0.7639259736672498,\n",
       " 'eval_f1': 0.7514273856034948,\n",
       " 'eval_precision': 0.7494562038253741,\n",
       " 'eval_recall': 0.7639259736672498,\n",
       " 'eval_runtime': 102.3634,\n",
       " 'eval_samples_per_second': 106.102,\n",
       " 'eval_steps_per_second': 13.266,\n",
       " 'epoch': 7.0}"
      ]
     },
     "execution_count": 135,
     "metadata": {},
     "output_type": "execute_result"
    }
   ],
   "source": [
    "trainer.evaluate()"
   ]
  },
  {
   "cell_type": "markdown",
   "metadata": {},
   "source": [
    "# Interpretación del modelo\n",
    "\n",
    "Ahora veremos que palabras son las que más influyen en la predicción del modelo."
   ]
  },
  {
   "cell_type": "code",
   "execution_count": 169,
   "metadata": {},
   "outputs": [
    {
     "name": "stdout",
     "output_type": "stream",
     "text": [
      "\n",
      "sample: \"best app! I really like it. better than twitter\" -> Debería ser Positivo (Label 2)\n",
      "Visualization: \n"
     ]
    },
    {
     "data": {
      "text/html": [
       "<table width: 100%><div style=\"border-top: 1px solid; margin-top: 5px;             padding-top: 5px; display: inline-block\"><b>Legend: </b><span style=\"display: inline-block; width: 10px; height: 10px;                 border: 1px solid; background-color:                 hsl(0, 75%, 60%)\"></span> Negative  <span style=\"display: inline-block; width: 10px; height: 10px;                 border: 1px solid; background-color:                 hsl(0, 75%, 100%)\"></span> Neutral  <span style=\"display: inline-block; width: 10px; height: 10px;                 border: 1px solid; background-color:                 hsl(120, 75%, 50%)\"></span> Positive  </div><tr><th>True Label</th><th>Predicted Label</th><th>Attribution Label</th><th>Attribution Score</th><th>Word Importance</th><tr><td><text style=\"padding-right:2em\"><b>2</b></text></td><td><text style=\"padding-right:2em\"><b>LABEL_2 (0.87)</b></text></td><td><text style=\"padding-right:2em\"><b>LABEL_2</b></text></td><td><text style=\"padding-right:2em\"><b>1.43</b></text></td><td><mark style=\"background-color: hsl(0, 75%, 100%); opacity:1.0;                     line-height:1.75\"><font color=\"black\"> [CLS]                    </font></mark><mark style=\"background-color: hsl(120, 75%, 54%); opacity:1.0;                     line-height:1.75\"><font color=\"black\"> best                    </font></mark><mark style=\"background-color: hsl(120, 75%, 98%); opacity:1.0;                     line-height:1.75\"><font color=\"black\"> app                    </font></mark><mark style=\"background-color: hsl(120, 75%, 95%); opacity:1.0;                     line-height:1.75\"><font color=\"black\"> !                    </font></mark><mark style=\"background-color: hsl(120, 75%, 98%); opacity:1.0;                     line-height:1.75\"><font color=\"black\"> i                    </font></mark><mark style=\"background-color: hsl(120, 75%, 95%); opacity:1.0;                     line-height:1.75\"><font color=\"black\"> really                    </font></mark><mark style=\"background-color: hsl(0, 75%, 96%); opacity:1.0;                     line-height:1.75\"><font color=\"black\"> like                    </font></mark><mark style=\"background-color: hsl(120, 75%, 98%); opacity:1.0;                     line-height:1.75\"><font color=\"black\"> it                    </font></mark><mark style=\"background-color: hsl(0, 75%, 95%); opacity:1.0;                     line-height:1.75\"><font color=\"black\"> .                    </font></mark><mark style=\"background-color: hsl(120, 75%, 96%); opacity:1.0;                     line-height:1.75\"><font color=\"black\"> better                    </font></mark><mark style=\"background-color: hsl(120, 75%, 92%); opacity:1.0;                     line-height:1.75\"><font color=\"black\"> than                    </font></mark><mark style=\"background-color: hsl(120, 75%, 93%); opacity:1.0;                     line-height:1.75\"><font color=\"black\"> twitter                    </font></mark><mark style=\"background-color: hsl(0, 75%, 100%); opacity:1.0;                     line-height:1.75\"><font color=\"black\"> [SEP]                    </font></mark></td><tr></table>"
      ],
      "text/plain": [
       "<IPython.core.display.HTML object>"
      ]
     },
     "metadata": {},
     "output_type": "display_data"
    },
    {
     "name": "stdout",
     "output_type": "stream",
     "text": [
      "\n",
      "sample: \"its neither good nor bad.\" -> Debería ser Neutral (Label 1)\n",
      "Visualization: \n"
     ]
    },
    {
     "data": {
      "text/html": [
       "<table width: 100%><div style=\"border-top: 1px solid; margin-top: 5px;             padding-top: 5px; display: inline-block\"><b>Legend: </b><span style=\"display: inline-block; width: 10px; height: 10px;                 border: 1px solid; background-color:                 hsl(0, 75%, 60%)\"></span> Negative  <span style=\"display: inline-block; width: 10px; height: 10px;                 border: 1px solid; background-color:                 hsl(0, 75%, 100%)\"></span> Neutral  <span style=\"display: inline-block; width: 10px; height: 10px;                 border: 1px solid; background-color:                 hsl(120, 75%, 50%)\"></span> Positive  </div><tr><th>True Label</th><th>Predicted Label</th><th>Attribution Label</th><th>Attribution Score</th><th>Word Importance</th><tr><td><text style=\"padding-right:2em\"><b>1</b></text></td><td><text style=\"padding-right:2em\"><b>LABEL_1 (0.44)</b></text></td><td><text style=\"padding-right:2em\"><b>LABEL_1</b></text></td><td><text style=\"padding-right:2em\"><b>0.87</b></text></td><td><mark style=\"background-color: hsl(0, 75%, 100%); opacity:1.0;                     line-height:1.75\"><font color=\"black\"> [CLS]                    </font></mark><mark style=\"background-color: hsl(0, 75%, 98%); opacity:1.0;                     line-height:1.75\"><font color=\"black\"> its                    </font></mark><mark style=\"background-color: hsl(120, 75%, 65%); opacity:1.0;                     line-height:1.75\"><font color=\"black\"> neither                    </font></mark><mark style=\"background-color: hsl(120, 75%, 89%); opacity:1.0;                     line-height:1.75\"><font color=\"black\"> good                    </font></mark><mark style=\"background-color: hsl(120, 75%, 78%); opacity:1.0;                     line-height:1.75\"><font color=\"black\"> nor                    </font></mark><mark style=\"background-color: hsl(0, 75%, 82%); opacity:1.0;                     line-height:1.75\"><font color=\"black\"> bad                    </font></mark><mark style=\"background-color: hsl(0, 75%, 100%); opacity:1.0;                     line-height:1.75\"><font color=\"black\"> .                    </font></mark><mark style=\"background-color: hsl(0, 75%, 100%); opacity:1.0;                     line-height:1.75\"><font color=\"black\"> [SEP]                    </font></mark></td><tr></table>"
      ],
      "text/plain": [
       "<IPython.core.display.HTML object>"
      ]
     },
     "metadata": {},
     "output_type": "display_data"
    },
    {
     "name": "stdout",
     "output_type": "stream",
     "text": [
      "\n",
      "sample: \"I recently installed this app due to its popularity, but my initial impression is quite negative. I haven't found anything that I like about it.\" -> Debería ser Negativo (Label 0)\n",
      "Visualization: \n"
     ]
    },
    {
     "data": {
      "text/html": [
       "<table width: 100%><div style=\"border-top: 1px solid; margin-top: 5px;             padding-top: 5px; display: inline-block\"><b>Legend: </b><span style=\"display: inline-block; width: 10px; height: 10px;                 border: 1px solid; background-color:                 hsl(0, 75%, 60%)\"></span> Negative  <span style=\"display: inline-block; width: 10px; height: 10px;                 border: 1px solid; background-color:                 hsl(0, 75%, 100%)\"></span> Neutral  <span style=\"display: inline-block; width: 10px; height: 10px;                 border: 1px solid; background-color:                 hsl(120, 75%, 50%)\"></span> Positive  </div><tr><th>True Label</th><th>Predicted Label</th><th>Attribution Label</th><th>Attribution Score</th><th>Word Importance</th><tr><td><text style=\"padding-right:2em\"><b>0</b></text></td><td><text style=\"padding-right:2em\"><b>LABEL_0 (0.46)</b></text></td><td><text style=\"padding-right:2em\"><b>LABEL_0</b></text></td><td><text style=\"padding-right:2em\"><b>0.62</b></text></td><td><mark style=\"background-color: hsl(0, 75%, 100%); opacity:1.0;                     line-height:1.75\"><font color=\"black\"> [CLS]                    </font></mark><mark style=\"background-color: hsl(120, 75%, 97%); opacity:1.0;                     line-height:1.75\"><font color=\"black\"> i                    </font></mark><mark style=\"background-color: hsl(0, 75%, 98%); opacity:1.0;                     line-height:1.75\"><font color=\"black\"> recently                    </font></mark><mark style=\"background-color: hsl(120, 75%, 86%); opacity:1.0;                     line-height:1.75\"><font color=\"black\"> installed                    </font></mark><mark style=\"background-color: hsl(0, 75%, 99%); opacity:1.0;                     line-height:1.75\"><font color=\"black\"> this                    </font></mark><mark style=\"background-color: hsl(0, 75%, 84%); opacity:1.0;                     line-height:1.75\"><font color=\"black\"> app                    </font></mark><mark style=\"background-color: hsl(0, 75%, 99%); opacity:1.0;                     line-height:1.75\"><font color=\"black\"> due                    </font></mark><mark style=\"background-color: hsl(120, 75%, 97%); opacity:1.0;                     line-height:1.75\"><font color=\"black\"> to                    </font></mark><mark style=\"background-color: hsl(0, 75%, 98%); opacity:1.0;                     line-height:1.75\"><font color=\"black\"> its                    </font></mark><mark style=\"background-color: hsl(0, 75%, 94%); opacity:1.0;                     line-height:1.75\"><font color=\"black\"> popularity                    </font></mark><mark style=\"background-color: hsl(120, 75%, 82%); opacity:1.0;                     line-height:1.75\"><font color=\"black\"> ,                    </font></mark><mark style=\"background-color: hsl(120, 75%, 91%); opacity:1.0;                     line-height:1.75\"><font color=\"black\"> but                    </font></mark><mark style=\"background-color: hsl(120, 75%, 96%); opacity:1.0;                     line-height:1.75\"><font color=\"black\"> my                    </font></mark><mark style=\"background-color: hsl(0, 75%, 87%); opacity:1.0;                     line-height:1.75\"><font color=\"black\"> initial                    </font></mark><mark style=\"background-color: hsl(120, 75%, 97%); opacity:1.0;                     line-height:1.75\"><font color=\"black\"> impression                    </font></mark><mark style=\"background-color: hsl(0, 75%, 93%); opacity:1.0;                     line-height:1.75\"><font color=\"black\"> is                    </font></mark><mark style=\"background-color: hsl(0, 75%, 97%); opacity:1.0;                     line-height:1.75\"><font color=\"black\"> quite                    </font></mark><mark style=\"background-color: hsl(0, 75%, 89%); opacity:1.0;                     line-height:1.75\"><font color=\"black\"> negative                    </font></mark><mark style=\"background-color: hsl(120, 75%, 99%); opacity:1.0;                     line-height:1.75\"><font color=\"black\"> .                    </font></mark><mark style=\"background-color: hsl(120, 75%, 96%); opacity:1.0;                     line-height:1.75\"><font color=\"black\"> i                    </font></mark><mark style=\"background-color: hsl(120, 75%, 99%); opacity:1.0;                     line-height:1.75\"><font color=\"black\"> haven                    </font></mark><mark style=\"background-color: hsl(120, 75%, 92%); opacity:1.0;                     line-height:1.75\"><font color=\"black\"> '                    </font></mark><mark style=\"background-color: hsl(120, 75%, 89%); opacity:1.0;                     line-height:1.75\"><font color=\"black\"> t                    </font></mark><mark style=\"background-color: hsl(120, 75%, 99%); opacity:1.0;                     line-height:1.75\"><font color=\"black\"> found                    </font></mark><mark style=\"background-color: hsl(120, 75%, 99%); opacity:1.0;                     line-height:1.75\"><font color=\"black\"> anything                    </font></mark><mark style=\"background-color: hsl(120, 75%, 87%); opacity:1.0;                     line-height:1.75\"><font color=\"black\"> that                    </font></mark><mark style=\"background-color: hsl(120, 75%, 97%); opacity:1.0;                     line-height:1.75\"><font color=\"black\"> i                    </font></mark><mark style=\"background-color: hsl(0, 75%, 94%); opacity:1.0;                     line-height:1.75\"><font color=\"black\"> like                    </font></mark><mark style=\"background-color: hsl(120, 75%, 94%); opacity:1.0;                     line-height:1.75\"><font color=\"black\"> about                    </font></mark><mark style=\"background-color: hsl(0, 75%, 99%); opacity:1.0;                     line-height:1.75\"><font color=\"black\"> it                    </font></mark><mark style=\"background-color: hsl(120, 75%, 90%); opacity:1.0;                     line-height:1.75\"><font color=\"black\"> .                    </font></mark><mark style=\"background-color: hsl(0, 75%, 100%); opacity:1.0;                     line-height:1.75\"><font color=\"black\"> [SEP]                    </font></mark></td><tr></table>"
      ],
      "text/plain": [
       "<IPython.core.display.HTML object>"
      ]
     },
     "metadata": {},
     "output_type": "display_data"
    },
    {
     "data": {
      "text/plain": [
       "''"
      ]
     },
     "execution_count": 169,
     "metadata": {},
     "output_type": "execute_result"
    }
   ],
   "source": [
    "# Interpretabilidad del modelo\n",
    "from transformers_interpret import SequenceClassificationExplainer\n",
    "\n",
    "# load the explainer\n",
    "explainer = SequenceClassificationExplainer(\n",
    "    model,\n",
    "    tokenizer\n",
    ")\n",
    "\n",
    "sample = \"best app! I really like it. better than twitter\"\n",
    "explanation = explainer(sample)\n",
    "print(f\"\\nsample: \\\"{sample}\\\" -> Debería ser Positivo (Label 2)\")\n",
    "print(\"Visualization: \")\n",
    "explainer.visualize(sample)\n",
    "\n",
    "sample = \"its neither good nor bad.\"\n",
    "explanation = explainer(sample)\n",
    "print(f\"\\nsample: \\\"{sample}\\\" -> Debería ser Neutral (Label 1)\")\n",
    "print(\"Visualization: \")\n",
    "explainer.visualize(sample)\n",
    "\n",
    "sample = \"I recently installed this app due to its popularity, but my initial impression is quite negative. I haven't found anything that I like about it.\"\n",
    "explanation = explainer(sample)\n",
    "print(f\"\\nsample: \\\"{sample}\\\" -> Debería ser Negativo (Label 0)\")\n",
    "print(\"Visualization: \")\n",
    "explainer.visualize(sample)\n",
    "\n",
    "\"\""
   ]
  }
 ],
 "metadata": {
  "kernelspec": {
   "display_name": "Python 3",
   "language": "python",
   "name": "python3"
  },
  "language_info": {
   "codemirror_mode": {
    "name": "ipython",
    "version": 3
   },
   "file_extension": ".py",
   "mimetype": "text/x-python",
   "name": "python",
   "nbconvert_exporter": "python",
   "pygments_lexer": "ipython3",
   "version": "3.11.1"
  }
 },
 "nbformat": 4,
 "nbformat_minor": 2
}
